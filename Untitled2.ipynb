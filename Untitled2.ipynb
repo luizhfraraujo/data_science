{
  "nbformat": 4,
  "nbformat_minor": 0,
  "metadata": {
    "colab": {
      "name": "Untitled2.ipynb",
      "provenance": [],
      "authorship_tag": "ABX9TyN+7SxdZZB9aYwkPKctXSRc",
      "include_colab_link": true
    },
    "kernelspec": {
      "name": "python3",
      "display_name": "Python 3"
    }
  },
  "cells": [
    {
      "cell_type": "markdown",
      "metadata": {
        "id": "view-in-github",
        "colab_type": "text"
      },
      "source": [
        "<a href=\"https://colab.research.google.com/github/luizhfraraujo/data_science/blob/master/Untitled2.ipynb\" target=\"_parent\"><img src=\"https://colab.research.google.com/assets/colab-badge.svg\" alt=\"Open In Colab\"/></a>"
      ]
    },
    {
      "cell_type": "markdown",
      "metadata": {
        "id": "THRH53c0JNiz",
        "colab_type": "text"
      },
      "source": [
        "<center><img  width=\"60%\" src=\"https://www.guarulhos.sp.gov.br/sites/default/files/field/image/covid-19-thumbnail-700x324_0.jpg\"></center>"
      ]
    },
    {
      "cell_type": "markdown",
      "metadata": {
        "id": "TDxAEdlRIaVE",
        "colab_type": "text"
      },
      "source": [
        "![alt text](https://www.guarulhos.sp.gov.br/sites/default/files/field/image/covid-19-thumbnail-700x324_0.jpg)"
      ]
    },
    {
      "cell_type": "markdown",
      "metadata": {
        "id": "4bhWLKe0IeSA",
        "colab_type": "text"
      },
      "source": [
        "<img src=\"https://www.guarulhos.sp.gov.br/sites/default/files/field/image/covid-19-thumbnail-700x324_0.jpg\"/>"
      ]
    }
  ]
}